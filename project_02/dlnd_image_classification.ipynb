{
 "cells": [
  {
   "cell_type": "markdown",
   "metadata": {
    "collapsed": true,
    "run_control": {
     "frozen": false,
     "read_only": false
    }
   },
   "source": [
    "# Image Classification\n",
    "In this project, you'll classify images from the [CIFAR-10 dataset](https://www.cs.toronto.edu/~kriz/cifar.html).  The dataset consists of airplanes, dogs, cats, and other objects. You'll preprocess the images, then train a convolutional neural network on all the samples. The images need to be normalized and the labels need to be one-hot encoded.  You'll get to apply what you learned and build a convolutional, max pooling, dropout, and fully connected layers.  At the end, you'll get to see your neural network's predictions on the sample images.\n",
    "## Get the Data\n",
    "Run the following cell to download the [CIFAR-10 dataset for python](https://www.cs.toronto.edu/~kriz/cifar-10-python.tar.gz)."
   ]
  },
  {
   "cell_type": "code",
   "execution_count": 35,
   "metadata": {
    "ExecuteTime": {
     "end_time": "2017-02-26T10:58:28.756864",
     "start_time": "2017-02-26T10:58:28.750355"
    },
    "collapsed": true,
    "run_control": {
     "frozen": true,
     "read_only": true
    }
   },
   "outputs": [],
   "source": [
    "\"\"\"\n",
    "DON'T MODIFY ANYTHING IN THIS CELL THAT IS BELOW THIS LINE\n",
    "\"\"\"\n",
    "from urllib.request import urlretrieve\n",
    "from os.path import isfile, isdir\n",
    "from tqdm import tqdm\n",
    "import problem_unittests as tests\n",
    "import tarfile\n",
    "\n",
    "cifar10_dataset_folder_path = 'cifar-10-batches-py'"
   ]
  },
  {
   "cell_type": "code",
   "execution_count": 1,
   "metadata": {
    "ExecuteTime": {
     "end_time": "2017-02-25T17:19:06.380115",
     "start_time": "2017-02-25T17:18:59.610972"
    },
    "collapsed": false,
    "run_control": {
     "frozen": true,
     "read_only": true
    }
   },
   "outputs": [
    {
     "name": "stdout",
     "output_type": "stream",
     "text": [
      "All files found!\n"
     ]
    }
   ],
   "source": [
    "class DLProgress(tqdm):\n",
    "    last_block = 0\n",
    "\n",
    "    def hook(self, block_num=1, block_size=1, total_size=None):\n",
    "        self.total = total_size\n",
    "        self.update((block_num - self.last_block) * block_size)\n",
    "        self.last_block = block_num\n",
    "\n",
    "if not isfile('cifar-10-python.tar.gz'):\n",
    "    with DLProgress(unit='B', unit_scale=True, miniters=1, desc='CIFAR-10 Dataset') as pbar:\n",
    "        urlretrieve(\n",
    "            'https://www.cs.toronto.edu/~kriz/cifar-10-python.tar.gz',\n",
    "            'cifar-10-python.tar.gz',\n",
    "            pbar.hook)\n",
    "\n",
    "if not isdir(cifar10_dataset_folder_path):\n",
    "    with tarfile.open('cifar-10-python.tar.gz') as tar:\n",
    "        tar.extractall()\n",
    "        tar.close()\n",
    "\n",
    "\n",
    "tests.test_folder_path(cifar10_dataset_folder_path)"
   ]
  },
  {
   "cell_type": "markdown",
   "metadata": {
    "run_control": {
     "frozen": false,
     "read_only": false
    }
   },
   "source": [
    "## Explore the Data\n",
    "The dataset is broken into batches to prevent your machine from running out of memory.  The CIFAR-10 dataset consists of 5 batches, named `data_batch_1`, `data_batch_2`, etc.. Each batch contains the labels and images that are one of the following:\n",
    "* airplane\n",
    "* automobile\n",
    "* bird\n",
    "* cat\n",
    "* deer\n",
    "* dog\n",
    "* frog\n",
    "* horse\n",
    "* ship\n",
    "* truck\n",
    "\n",
    "Understanding a dataset is part of making predictions on the data.  Play around with the code cell below by changing the `batch_id` and `sample_id`. The `batch_id` is the id for a batch (1-5). The `sample_id` is the id for a image and label pair in the batch.\n",
    "\n",
    "Ask yourself \"What are all possible labels?\", \"What is the range of values for the image data?\", \"Are the labels in order or random?\".  Answers to questions like these will help you preprocess the data and end up with better predictions."
   ]
  },
  {
   "cell_type": "code",
   "execution_count": 41,
   "metadata": {
    "ExecuteTime": {
     "end_time": "2017-02-26T11:06:57.567928",
     "start_time": "2017-02-26T11:06:57.214102"
    },
    "collapsed": false,
    "run_control": {
     "frozen": true,
     "read_only": true
    }
   },
   "outputs": [
    {
     "name": "stdout",
     "output_type": "stream",
     "text": [
      "\n",
      "Stats of batch 1:\n",
      "Samples: 10000\n",
      "Label Counts: {0: 1005, 1: 974, 2: 1032, 3: 1016, 4: 999, 5: 937, 6: 1030, 7: 1001, 8: 1025, 9: 981}\n",
      "First 20 Labels: [6, 9, 9, 4, 1, 1, 2, 7, 8, 3, 4, 7, 7, 2, 9, 9, 9, 3, 2, 6]\n",
      "\n",
      "Example of Image 5:\n",
      "Image - Min Value: 0 Max Value: 252\n",
      "Image - Shape: (32, 32, 3)\n",
      "Label - Label Id: 1 Name: automobile\n"
     ]
    },
    {
     "data": {
      "image/png": "[encoded data removed]",
      "text/plain": [
       "<matplotlib.figure.Figure at 0x1142ae358>"
      ]
     },
     "metadata": {
      "image/png": {
       "height": 250,
       "width": 253
      }
     },
     "output_type": "display_data"
    }
   ],
   "source": [
    "%matplotlib inline\n",
    "%config InlineBackend.figure_format = 'retina'\n",
    "\n",
    "import helper\n",
    "import numpy as np\n",
    "\n",
    "cifar10_dataset_folder_path = 'cifar-10-batches-py'\n",
    "# Explore the dataset\n",
    "batch_id = 1\n",
    "sample_id = 5\n",
    "helper.display_stats(cifar10_dataset_folder_path, batch_id, sample_id)"
   ]
  },
  {
   "cell_type": "markdown",
   "metadata": {
    "run_control": {
     "frozen": false,
     "read_only": false
    }
   },
   "source": [
    "## Implement Preprocess Functions\n",
    "### Normalize\n",
    "In the cell below, implement the `normalize` function to take in image data, `x`, and return it as a normalized Numpy array. The values should be in the range of 0 to 1, inclusive.  The return object should be the same shape as `x`."
   ]
  },
  {
   "cell_type": "code",
   "execution_count": 36,
   "metadata": {
    "ExecuteTime": {
     "end_time": "2017-02-26T10:58:35.720685",
     "start_time": "2017-02-26T10:58:35.710048"
    },
    "collapsed": false,
    "run_control": {
     "frozen": true,
     "read_only": true
    }
   },
   "outputs": [
    {
     "name": "stdout",
     "output_type": "stream",
     "text": [
      "Tests Passed\n"
     ]
    }
   ],
   "source": [
    "def normalize(x):\n",
    "    \"\"\"\n",
    "    Normalize a list of sample image data in the range of 0 to 1\n",
    "    : x: List of image data.  The image shape is (32, 32, 3)\n",
    "    : return: Numpy array of normalize data\n",
    "    \"\"\"\n",
    "    # TODO: Implement Function\n",
    "    \n",
    "    return x / 255\n",
    "\n",
    "\n",
    "\"\"\"\n",
    "DON'T MODIFY ANYTHING IN THIS CELL THAT IS BELOW THIS LINE\n",
    "\"\"\"\n",
    "tests.test_normalize(normalize)"
   ]
  },
  {
   "cell_type": "markdown",
   "metadata": {
    "run_control": {
     "frozen": false,
     "read_only": false
    }
   },
   "source": [
    "### One-hot encode\n",
    "Just like the previous code cell, you'll be implementing a function for preprocessing.  This time, you'll implement the `one_hot_encode` function. The input, `x`, are a list of labels.  Implement the function to return the list of labels as One-Hot encoded Numpy array.  The possible values for labels are 0 to 9. The one-hot encoding function should return the same encoding for each value between each call to `one_hot_encode`.  Make sure to save the map of encodings outside the function.\n",
    "\n",
    "Hint: Don't reinvent the wheel."
   ]
  },
  {
   "cell_type": "code",
   "execution_count": 37,
   "metadata": {
    "ExecuteTime": {
     "end_time": "2017-02-26T11:04:18.867396",
     "start_time": "2017-02-26T11:04:18.855387"
    },
    "collapsed": false,
    "run_control": {
     "frozen": true,
     "read_only": true
    }
   },
   "outputs": [
    {
     "name": "stdout",
     "output_type": "stream",
     "text": [
      "Tests Passed\n"
     ]
    }
   ],
   "source": [
    "from sklearn.preprocessing import LabelBinarizer\n",
    "\n",
    "n_classes = 10\n",
    "\n",
    "def one_hot_encode(x):\n",
    "    \"\"\"\n",
    "    One hot encode a list of sample labels. Return a one-hot encoded vector for each label.\n",
    "    : x: List of sample Labels\n",
    "    : return: Numpy array of one-hot encoded labels\n",
    "    \"\"\"\n",
    "    # TODO: Implement Function\n",
    "\n",
    "    lb = LabelBinarizer()\n",
    "    lb.fit(range(n_classes))\n",
    "    \n",
    "    return lb.transform(x)\n",
    "\n",
    "\n",
    "\"\"\"\n",
    "DON'T MODIFY ANYTHING IN THIS CELL THAT IS BELOW THIS LINE\n",
    "\"\"\"\n",
    "tests.test_one_hot_encode(one_hot_encode)"
   ]
  },
  {
   "cell_type": "markdown",
   "metadata": {
    "run_control": {
     "frozen": false,
     "read_only": false
    }
   },
   "source": [
    "### Randomize Data\n",
    "As you saw from exploring the data above, the order of the samples are randomized.  It doesn't hurt to randomize it again, but you don't need to for this dataset."
   ]
  },
  {
   "cell_type": "markdown",
   "metadata": {
    "run_control": {
     "frozen": false,
     "read_only": false
    }
   },
   "source": [
    "## Preprocess all the data and save it\n",
    "Running the code cell below will preprocess all the CIFAR-10 data and save it to file. The code below also uses 10% of the training data for validation."
   ]
  },
  {
   "cell_type": "code",
   "execution_count": 42,
   "metadata": {
    "ExecuteTime": {
     "end_time": "2017-02-26T11:07:16.300136",
     "start_time": "2017-02-26T11:07:05.750875"
    },
    "collapsed": false,
    "run_control": {
     "frozen": true,
     "read_only": true
    }
   },
   "outputs": [],
   "source": [
    "\"\"\"\n",
    "DON'T MODIFY ANYTHING IN THIS CELL\n",
    "\"\"\"\n",
    "# Preprocess Training, Validation, and Testing Data\n",
    "helper.preprocess_and_save_data(cifar10_dataset_folder_path, normalize, one_hot_encode)"
   ]
  },
  {
   "cell_type": "markdown",
   "metadata": {
    "run_control": {
     "frozen": false,
     "read_only": false
    }
   },
   "source": [
    "# Check Point\n",
    "This is your first checkpoint.  If you ever decide to come back to this notebook or have to restart the notebook, you can start from here.  The preprocessed data has been saved to disk."
   ]
  },
  {
   "cell_type": "code",
   "execution_count": 4,
   "metadata": {
    "ExecuteTime": {
     "end_time": "2017-02-27T14:31:45.441670",
     "start_time": "2017-02-27T14:31:41.980098"
    },
    "collapsed": true,
    "run_control": {
     "frozen": false,
     "read_only": false
    }
   },
   "outputs": [],
   "source": [
    "\"\"\"\n",
    "DON'T MODIFY ANYTHING IN THIS CELL\n",
    "\"\"\"\n",
    "import pickle\n",
    "import problem_unittests as tests\n",
    "import helper\n",
    "\n",
    "# Load the Preprocessed Validation data\n",
    "valid_features, valid_labels = pickle.load(open('preprocess_validation.p', mode='rb'))"
   ]
  },
  {
   "cell_type": "markdown",
   "metadata": {
    "run_control": {
     "frozen": false,
     "read_only": false
    }
   },
   "source": [
    "## Build the network\n",
    "For the neural network, you'll build each layer into a function.  Most of the code you've seen has been outside of functions. To test your code more thoroughly, we require that you put each layer in a function.  This allows us to give you better feedback and test for simple mistakes using our unittests before you submit your project.\n",
    "\n",
    "If you're finding it hard to dedicate enough time for this course a week, we've provided a small shortcut to this part of the project. In the next couple of problems, you'll have the option to use [TensorFlow Layers](https://www.tensorflow.org/api_docs/python/tf/layers) or [TensorFlow Layers (contrib)](https://www.tensorflow.org/api_guides/python/contrib.layers) to build each layer, except \"Convolutional & Max Pooling\" layer.  TF Layers is similar to Keras's and TFLearn's abstraction to layers, so it's easy to pickup.\n",
    "\n",
    "If you would like to get the most of this course, try to solve all the problems without TF Layers.  Let's begin!\n",
    "### Input\n",
    "The neural network needs to read the image data, one-hot encoded labels, and dropout keep probability. Implement the following functions\n",
    "* Implement `neural_net_image_input`\n",
    " * Return a [TF Placeholder](https://www.tensorflow.org/api_docs/python/tf/placeholder)\n",
    " * Set the shape using `image_shape` with batch size set to `None`.\n",
    " * Name the TensorFlow placeholder \"x\" using the TensorFlow `name` parameter in the [TF Placeholder](https://www.tensorflow.org/api_docs/python/tf/placeholder).\n",
    "* Implement `neural_net_label_input`\n",
    " * Return a [TF Placeholder](https://www.tensorflow.org/api_docs/python/tf/placeholder)\n",
    " * Set the shape using `n_classes` with batch size set to `None`.\n",
    " * Name the TensorFlow placeholder \"y\" using the TensorFlow `name` parameter in the [TF Placeholder](https://www.tensorflow.org/api_docs/python/tf/placeholder).\n",
    "* Implement `neural_net_keep_prob_input`\n",
    " * Return a [TF Placeholder](https://www.tensorflow.org/api_docs/python/tf/placeholder) for dropout keep probability.\n",
    " * Name the TensorFlow placeholder \"keep_prob\" using the TensorFlow `name` parameter in the [TF Placeholder](https://www.tensorflow.org/api_docs/python/tf/placeholder).\n",
    "\n",
    "These names will be used at the end of the project to load your saved model.\n",
    "\n",
    "Note: `None` for shapes in TensorFlow allow for a dynamic size."
   ]
  },
  {
   "cell_type": "code",
   "execution_count": 5,
   "metadata": {
    "ExecuteTime": {
     "end_time": "2017-02-27T14:31:45.605218",
     "start_time": "2017-02-27T14:31:45.447054"
    },
    "collapsed": false,
    "run_control": {
     "frozen": false,
     "read_only": false
    }
   },
   "outputs": [
    {
     "name": "stdout",
     "output_type": "stream",
     "text": [
      "Image Input Tests Passed.\n",
      "Label Input Tests Passed.\n",
      "Keep Prob Tests Passed.\n"
     ]
    }
   ],
   "source": [
    "import tensorflow as tf\n",
    "\n",
    "def neural_net_image_input(image_shape):\n",
    "    \"\"\"\n",
    "    Return a Tensor for a bach of image input\n",
    "    : image_shape: Shape of the images\n",
    "    : return: Tensor for image input.\n",
    "    \"\"\"\n",
    "    # TODO: Implement Function\n",
    "    shape = (None, image_shape[0], image_shape[1], image_shape[2])\n",
    "    \n",
    "    return tf.placeholder(tf.float32, shape=shape, name='x')\n",
    "\n",
    "\n",
    "def neural_net_label_input(n_classes):\n",
    "    \"\"\"\n",
    "    Return a Tensor for a batch of label input\n",
    "    : n_classes: Number of classes\n",
    "    : return: Tensor for label input.\n",
    "    \"\"\"\n",
    "    # TODO: Implement Function\n",
    "    shape = (None, n_classes)\n",
    "    return tf.placeholder(tf.float32, shape=shape, name='y')\n",
    "\n",
    "\n",
    "def neural_net_keep_prob_input():\n",
    "    \"\"\"\n",
    "    Return a Tensor for keep probability\n",
    "    : return: Tensor for keep probability.\n",
    "    \"\"\"\n",
    "    # TODO: Implement Function\n",
    "    return tf.placeholder(tf.float32, shape=None, name='keep_prob')\n",
    "\n",
    "\n",
    "\"\"\"\n",
    "DON'T MODIFY ANYTHING IN THIS CELL THAT IS BELOW THIS LINE\n",
    "\"\"\"\n",
    "tf.reset_default_graph()\n",
    "tests.test_nn_image_inputs(neural_net_image_input)\n",
    "tests.test_nn_label_inputs(neural_net_label_input)\n",
    "tests.test_nn_keep_prob_inputs(neural_net_keep_prob_input)"
   ]
  },
  {
   "cell_type": "markdown",
   "metadata": {
    "run_control": {
     "frozen": false,
     "read_only": false
    }
   },
   "source": [
    "### Convolution and Max Pooling Layer\n",
    "Convolution layers have a lot of success with images. For this code cell, you should implement the function `conv2d_maxpool` to apply convolution then max pooling:\n",
    "* Create the weight and bias using `conv_ksize`, `conv_num_outputs` and the shape of `x_tensor`.\n",
    "* Apply a convolution to `x_tensor` using weight and `conv_strides`.\n",
    " * We recommend you use same padding, but you're welcome to use any padding.\n",
    "* Add bias\n",
    "* Add a nonlinear activation to the convolution.\n",
    "* Apply Max Pooling using `pool_ksize` and `pool_strides`.\n",
    " * We recommend you use same padding, but you're welcome to use any padding.\n",
    "\n",
    "Note: You **can't** use [TensorFlow Layers](https://www.tensorflow.org/api_docs/python/tf/layers) or [TensorFlow Layers (contrib)](https://www.tensorflow.org/api_guides/python/contrib.layers) for this layer.  You're free to use any TensorFlow package for all the other layers."
   ]
  },
  {
   "cell_type": "code",
   "execution_count": 46,
   "metadata": {
    "ExecuteTime": {
     "end_time": "2017-02-27T15:45:14.447076",
     "start_time": "2017-02-27T15:45:14.339402"
    },
    "collapsed": false,
    "run_control": {
     "frozen": false,
     "read_only": false
    }
   },
   "outputs": [
    {
     "name": "stdout",
     "output_type": "stream",
     "text": [
      "Tests Passed\n"
     ]
    }
   ],
   "source": [
    "def conv2d_maxpool(x_tensor, conv_num_outputs, conv_ksize, conv_strides, pool_ksize, pool_strides):\n",
    "    \"\"\"\n",
    "    Apply convolution then max pooling to x_tensor\n",
    "    :param x_tensor: TensorFlow Tensor\n",
    "    :param conv_num_outputs: Number of outputs for the convolutional layer\n",
    "    :param conv_strides: Stride 2-D Tuple for convolution\n",
    "    :param pool_ksize: kernal size 2-D Tuple for pool\n",
    "    :param pool_strides: Stride 2-D Tuple for pool\n",
    "    : return: A tensor that represents convolution and max pooling of x_tensor\n",
    "    \"\"\"\n",
    "    # TODO: Implement Function\n",
    "    \n",
    "    w = tf.Variable(tf.truncated_normal([conv_ksize[0], conv_ksize[1], \n",
    "                                      x_tensor.get_shape().as_list()[3], \n",
    "                                      conv_num_outputs], stddev=0.1))\n",
    "    b = tf.Variable(tf.zeros([conv_num_outputs]))\n",
    "    \n",
    "    conv = tf.nn.conv2d(x_tensor, w, strides=[1, conv_strides[0], conv_strides[1], 1], \n",
    "                     padding='SAME')\n",
    "    conv = tf.nn.bias_add(conv, b)\n",
    "    conv = tf.nn.relu(conv)\n",
    "    conv = tf.nn.max_pool(conv, ksize=[1, pool_ksize[0], pool_ksize[1], 1], \n",
    "                       strides=[1, pool_strides[0], pool_strides[1], 1], \n",
    "                       padding='SAME')\n",
    "    \n",
    "    return conv\n",
    "\n",
    "\n",
    "\"\"\"\n",
    "DON'T MODIFY ANYTHING IN THIS CELL THAT IS BELOW THIS LINE\n",
    "\"\"\"\n",
    "tests.test_con_pool(conv2d_maxpool)"
   ]
  },
  {
   "cell_type": "markdown",
   "metadata": {
    "run_control": {
     "frozen": false,
     "read_only": false
    }
   },
   "source": [
    "### Flatten Layer\n",
    "Implement the `flatten` function to change the dimension of `x_tensor` from a 4-D tensor to a 2-D tensor.  The output should be the shape (*Batch Size*, *Flattened Image Size*). You can use [TensorFlow Layers](https://www.tensorflow.org/api_docs/python/tf/layers) or [TensorFlow Layers (contrib)](https://www.tensorflow.org/api_guides/python/contrib.layers) for this layer."
   ]
  },
  {
   "cell_type": "code",
   "execution_count": 47,
   "metadata": {
    "ExecuteTime": {
     "end_time": "2017-02-27T15:45:19.140525",
     "start_time": "2017-02-27T15:45:19.104614"
    },
    "collapsed": false,
    "run_control": {
     "frozen": false,
     "read_only": false
    }
   },
   "outputs": [
    {
     "name": "stdout",
     "output_type": "stream",
     "text": [
      "Tests Passed\n"
     ]
    }
   ],
   "source": [
    "def flatten(x_tensor):\n",
    "    \"\"\"\n",
    "    Flatten x_tensor to (Batch Size, Flattened Image Size)\n",
    "    : x_tensor: A tensor of size (Batch Size, ...), where ... are the image dimensions.\n",
    "    : return: A tensor of size (Batch Size, Flattened Image Size).\n",
    "    \"\"\"\n",
    "    # TODO: Implement Function\n",
    "    \n",
    "    shape = x_tensor.get_shape().as_list()\n",
    "    dim_2 = shape[1] * shape[2] * shape[3]\n",
    "    \n",
    "    return tf.reshape(x_tensor, [-1, dim_2])\n",
    "    \n",
    "    ##Alternative to use TF Layers\n",
    "    #return tf.contrib.layers.flatten(x_tensor)\n",
    "\n",
    "\"\"\"\n",
    "DON'T MODIFY ANYTHING IN THIS CELL THAT IS BELOW THIS LINE\n",
    "\"\"\"\n",
    "tests.test_flatten(flatten)"
   ]
  },
  {
   "cell_type": "markdown",
   "metadata": {
    "run_control": {
     "frozen": false,
     "read_only": false
    }
   },
   "source": [
    "### Fully-Connected Layer\n",
    "Implement the `fully_conn` function to apply a fully connected layer to `x_tensor` with the shape (*Batch Size*, *num_outputs*). You can use [TensorFlow Layers](https://www.tensorflow.org/api_docs/python/tf/layers) or [TensorFlow Layers (contrib)](https://www.tensorflow.org/api_guides/python/contrib.layers) for this layer."
   ]
  },
  {
   "cell_type": "code",
   "execution_count": 48,
   "metadata": {
    "ExecuteTime": {
     "end_time": "2017-02-27T15:45:20.738936",
     "start_time": "2017-02-27T15:45:20.697721"
    },
    "collapsed": false,
    "run_control": {
     "frozen": false,
     "read_only": false
    }
   },
   "outputs": [
    {
     "name": "stdout",
     "output_type": "stream",
     "text": [
      "Tests Passed\n"
     ]
    }
   ],
   "source": [
    "def fully_conn(x_tensor, num_outputs):\n",
    "    \"\"\"\n",
    "    Apply a fully connected layer to x_tensor using weight and bias\n",
    "    : x_tensor: A 2-D tensor where the first dimension is batch size.\n",
    "    : num_outputs: The number of output that the new tensor should be.\n",
    "    : return: A 2-D tensor where the second dimension is num_outputs.\n",
    "    \"\"\"\n",
    "    # TODO: Implement Function\n",
    "    shape = x_tensor.get_shape().as_list()\n",
    "    w = tf.Variable(tf.truncated_normal([shape[1], num_outputs], stddev=0.1))\n",
    "    b = tf.Variable(tf.zeros([num_outputs]))\n",
    "    fc = tf.add(tf.matmul(x_tensor, w), b)\n",
    "    fc = tf.nn.relu(fc)\n",
    "    return fc             \n",
    "    \n",
    "    #Alternative to use TF Layers\n",
    "    #return tf.contrib.layers.fully_connected(x_tensor, num_outputs=num_outputs)\n",
    "\n",
    "\n",
    "\"\"\"\n",
    "DON'T MODIFY ANYTHING IN THIS CELL THAT IS BELOW THIS LINE\n",
    "\"\"\"\n",
    "tests.test_fully_conn(fully_conn)"
   ]
  },
  {
   "cell_type": "markdown",
   "metadata": {
    "run_control": {
     "frozen": false,
     "read_only": false
    }
   },
   "source": [
    "### Output Layer\n",
    "Implement the `output` function to apply a fully connected layer to `x_tensor` with the shape (*Batch Size*, *num_outputs*). You can use [TensorFlow Layers](https://www.tensorflow.org/api_docs/python/tf/layers) or [TensorFlow Layers (contrib)](https://www.tensorflow.org/api_guides/python/contrib.layers) for this layer.\n",
    "\n",
    "Note: Activation, softmax, or cross entropy shouldn't be applied to this."
   ]
  },
  {
   "cell_type": "code",
   "execution_count": 49,
   "metadata": {
    "ExecuteTime": {
     "end_time": "2017-02-27T15:45:24.310973",
     "start_time": "2017-02-27T15:45:24.274909"
    },
    "collapsed": false,
    "run_control": {
     "frozen": false,
     "read_only": false
    }
   },
   "outputs": [
    {
     "name": "stdout",
     "output_type": "stream",
     "text": [
      "Tests Passed\n"
     ]
    }
   ],
   "source": [
    "def output(x_tensor, num_outputs):\n",
    "    \"\"\"\n",
    "    Apply a output layer to x_tensor using weight and bias\n",
    "    : x_tensor: A 2-D tensor where the first dimension is batch size.\n",
    "    : num_outputs: The number of output that the new tensor should be.\n",
    "    : return: A 2-D tensor where the second dimension is num_outputs.\n",
    "    \"\"\"\n",
    "    # TODO: Implement Function\n",
    "    shape = x_tensor.get_shape().as_list()\n",
    "    w = tf.Variable(tf.truncated_normal([shape[1], num_outputs], stddev=0.1))\n",
    "    b = tf.Variable(tf.zeros([num_outputs]))\n",
    "    output = tf.add(tf.matmul(x_tensor, w), b)\n",
    "    return output\n",
    "\n",
    "\n",
    "\"\"\"\n",
    "DON'T MODIFY ANYTHING IN THIS CELL THAT IS BELOW THIS LINE\n",
    "\"\"\"\n",
    "tests.test_output(output)"
   ]
  },
  {
   "cell_type": "markdown",
   "metadata": {
    "run_control": {
     "frozen": false,
     "read_only": false
    }
   },
   "source": [
    "### Create Convolutional Model\n",
    "Implement the function `conv_net` to create a convolutional neural network model. The function takes in a batch of images, `x`, and outputs logits.  Use the layers you created above to create this model:\n",
    "\n",
    "* Apply 1, 2, or 3 Convolution and Max Pool layers\n",
    "* Apply a Flatten Layer\n",
    "* Apply 1, 2, or 3 Fully Connected Layers\n",
    "* Apply an Output Layer\n",
    "* Return the output\n",
    "* Apply [TensorFlow's Dropout](https://www.tensorflow.org/api_docs/python/tf/nn/dropout) to one or more layers in the model using `keep_prob`. "
   ]
  },
  {
   "cell_type": "code",
   "execution_count": 62,
   "metadata": {
    "ExecuteTime": {
     "end_time": "2017-02-27T17:14:53.913955",
     "start_time": "2017-02-27T17:14:51.412491"
    },
    "collapsed": false,
    "run_control": {
     "frozen": false,
     "read_only": false
    }
   },
   "outputs": [
    {
     "name": "stdout",
     "output_type": "stream",
     "text": [
      "Neural Network Built!\n"
     ]
    }
   ],
   "source": [
    "def conv_net(x, keep_prob):\n",
    "    \"\"\"\n",
    "    Create a convolutional neural network model\n",
    "    : x: Placeholder tensor that holds image data.\n",
    "    : keep_prob: Placeholder tensor that hold dropout keep probability.\n",
    "    : return: Tensor that represents logits\n",
    "    \"\"\"\n",
    "    # TODO: Apply 1, 2, or 3 Convolution and Max Pool layers\n",
    "    #    Play around with different number of outputs, kernel size and stride\n",
    "    # Function Definition from Above:\n",
    "    #    conv2d_maxpool(x_tensor, conv_num_outputs, conv_ksize, conv_strides, pool_ksize, pool_strides)\n",
    "    \n",
    "    layer = conv2d_maxpool(x, 32, (4, 4), (1, 1), (3, 3), (2, 2))\n",
    "    layer = tf.nn.dropout(layer, keep_prob)\n",
    "    layer = conv2d_maxpool(layer, 64, (4, 4), (1, 1), (3, 3), (2, 2))\n",
    "    layer = flatten(layer)\n",
    "    layer = fully_conn(layer, 1024)\n",
    "    layer = tf.nn.dropout(layer, keep_prob)\n",
    "    layer = fully_conn(layer, 512)\n",
    "    layer = output(layer, 10)\n",
    "\n",
    "    return layer\n",
    "\n",
    "\n",
    "\"\"\"\n",
    "DON'T MODIFY ANYTHING IN THIS CELL THAT IS BELOW THIS LINE\n",
    "\"\"\"\n",
    "\n",
    "##############################\n",
    "## Build the Neural Network ##\n",
    "##############################\n",
    "\n",
    "# Remove previous weights, bias, inputs, etc..\n",
    "tf.reset_default_graph()\n",
    "\n",
    "# Inputs\n",
    "x = neural_net_image_input((32, 32, 3))\n",
    "y = neural_net_label_input(10)\n",
    "keep_prob = neural_net_keep_prob_input()\n",
    "\n",
    "# Model\n",
    "logits = conv_net(x, keep_prob)\n",
    "\n",
    "# Name logits Tensor, so that is can be loaded from disk after training\n",
    "logits = tf.identity(logits, name='logits')\n",
    "\n",
    "# Loss and Optimizer\n",
    "cost = tf.reduce_mean(tf.nn.softmax_cross_entropy_with_logits(logits=logits, labels=y))\n",
    "optimizer = tf.train.AdamOptimizer().minimize(cost)\n",
    "\n",
    "# Accuracy\n",
    "correct_pred = tf.equal(tf.argmax(logits, 1), tf.argmax(y, 1))\n",
    "accuracy = tf.reduce_mean(tf.cast(correct_pred, tf.float32), name='accuracy')\n",
    "\n",
    "tests.test_conv_net(conv_net)"
   ]
  },
  {
   "cell_type": "markdown",
   "metadata": {
    "run_control": {
     "frozen": false,
     "read_only": false
    }
   },
   "source": [
    "## Train the Neural Network\n",
    "### Single Optimization\n",
    "Implement the function `train_neural_network` to do a single optimization.  The optimization should use `optimizer` to optimize in `session` with a `feed_dict` of the following:\n",
    "* `x` for image input\n",
    "* `y` for labels\n",
    "* `keep_prob` for keep probability for dropout\n",
    "\n",
    "This function will be called for each batch, so `tf.global_variables_initializer()` has already been called.\n",
    "\n",
    "Note: Nothing needs to be returned. This function is only optimizing the neural network."
   ]
  },
  {
   "cell_type": "code",
   "execution_count": 51,
   "metadata": {
    "ExecuteTime": {
     "end_time": "2017-02-27T15:49:51.680600",
     "start_time": "2017-02-27T15:49:51.626931"
    },
    "collapsed": false,
    "run_control": {
     "frozen": false,
     "read_only": false
    }
   },
   "outputs": [
    {
     "name": "stdout",
     "output_type": "stream",
     "text": [
      "Tests Passed\n"
     ]
    }
   ],
   "source": [
    "def train_neural_network(session, optimizer, keep_probability, feature_batch, label_batch):\n",
    "    \"\"\"\n",
    "    Optimize the session on a batch of images and labels\n",
    "    : session: Current TensorFlow session\n",
    "    : optimizer: TensorFlow optimizer function\n",
    "    : keep_probability: keep probability\n",
    "    : feature_batch: Batch of Numpy image data\n",
    "    : label_batch: Batch of Numpy label data\n",
    "    \"\"\"\n",
    "    # TODO: Implement Function\n",
    "    session.run(optimizer, feed_dict={x: feature_batch, y: label_batch, keep_prob: keep_probability})\n",
    "\n",
    "\n",
    "\"\"\"\n",
    "DON'T MODIFY ANYTHING IN THIS CELL THAT IS BELOW THIS LINE\n",
    "\"\"\"\n",
    "tests.test_train_nn(train_neural_network)"
   ]
  },
  {
   "cell_type": "markdown",
   "metadata": {
    "run_control": {
     "frozen": false,
     "read_only": false
    }
   },
   "source": [
    "### Show Stats\n",
    "Implement the function `print_stats` to print loss and validation accuracy.  Use the global variables `valid_features` and `valid_labels` to calculate validation accuracy.  Use a keep probability of `1.0` to calculate the loss and validation accuracy."
   ]
  },
  {
   "cell_type": "code",
   "execution_count": 63,
   "metadata": {
    "ExecuteTime": {
     "end_time": "2017-02-27T17:15:21.535737",
     "start_time": "2017-02-27T17:15:21.503849"
    },
    "collapsed": false,
    "run_control": {
     "frozen": false,
     "read_only": false
    }
   },
   "outputs": [],
   "source": [
    "def print_stats(session, feature_batch, label_batch, cost, accuracy):\n",
    "    \"\"\"\n",
    "    Print information about loss and validation accuracy\n",
    "    : session: Current TensorFlow session\n",
    "    : feature_batch: Batch of Numpy image data\n",
    "    : label_batch: Batch of Numpy label data\n",
    "    : cost: TensorFlow cost function\n",
    "    : accuracy: TensorFlow accuracy function\n",
    "    \"\"\"\n",
    "    # TODO: Implement Function\n",
    "    train_loss = session.run(cost, feed_dict={x: feature_batch, \n",
    "                                        y: label_batch, \n",
    "                                        keep_prob: 1.})\n",
    "\n",
    "    valid_loss = session.run(cost, feed_dict={x: valid_features, \n",
    "                                        y: valid_labels, \n",
    "                                        keep_prob: 1.})\n",
    "    \n",
    "    valid_acc = session.run(accuracy, feed_dict={x: valid_features,\n",
    "                                                 y: valid_labels,\n",
    "                                                 keep_prob: 1.})\n",
    "    print('T_Loss: {} | V_Loss: {} | V_Accuracy: {} '.format(round(float(train_loss),2),\n",
    "                                                                         round(float(valid_loss),2),\n",
    "                                                                         round(float(valid_acc),4)))"
   ]
  },
  {
   "cell_type": "markdown",
   "metadata": {
    "run_control": {
     "frozen": false,
     "read_only": false
    }
   },
   "source": [
    "### Hyperparameters\n",
    "Tune the following parameters:\n",
    "* Set `epochs` to the number of iterations until the network stops learning or start overfitting\n",
    "* Set `batch_size` to the highest number that your machine has memory for.  Most people set them to common sizes of memory:\n",
    " * 64\n",
    " * 128\n",
    " * 256\n",
    " * ...\n",
    "* Set `keep_probability` to the probability of keeping a node using dropout"
   ]
  },
  {
   "cell_type": "code",
   "execution_count": 66,
   "metadata": {
    "ExecuteTime": {
     "end_time": "2017-02-27T17:35:51.421521",
     "start_time": "2017-02-27T17:35:51.414085"
    },
    "collapsed": true,
    "run_control": {
     "frozen": false,
     "read_only": false
    }
   },
   "outputs": [],
   "source": [
    "# TODO: Tune Parameters\n",
    "epochs = 20\n",
    "batch_size = 128\n",
    "keep_probability = .5"
   ]
  },
  {
   "cell_type": "markdown",
   "metadata": {
    "run_control": {
     "frozen": false,
     "read_only": false
    }
   },
   "source": [
    "### Train on a Single CIFAR-10 Batch\n",
    "Instead of training the neural network on all the CIFAR-10 batches of data, let's use a single batch. This should save time while you iterate on the model to get a better accuracy.  Once the final validation accuracy is 50% or greater, run the model on all the data in the next section."
   ]
  },
  {
   "cell_type": "code",
   "execution_count": 67,
   "metadata": {
    "ExecuteTime": {
     "end_time": "2017-02-27T17:58:08.115182",
     "start_time": "2017-02-27T17:35:52.978994"
    },
    "collapsed": false,
    "run_control": {
     "frozen": false,
     "read_only": false
    },
    "scrolled": true
   },
   "outputs": [
    {
     "name": "stdout",
     "output_type": "stream",
     "text": [
      "Checking the Training on a Single Batch...\n",
      "Epoch  1, CIFAR-10 Batch 1:  T_Loss: 2.24 | V_Loss: 2.21 | V_Accuracy: 0.2174 \n",
      "Epoch  2, CIFAR-10 Batch 1:  T_Loss: 2.07 | V_Loss: 2.03 | V_Accuracy: 0.3026 \n",
      "Epoch  3, CIFAR-10 Batch 1:  T_Loss: 1.95 | V_Loss: 1.83 | V_Accuracy: 0.3462 \n",
      "Epoch  4, CIFAR-10 Batch 1:  T_Loss: 1.82 | V_Loss: 1.73 | V_Accuracy: 0.3714 \n",
      "Epoch  5, CIFAR-10 Batch 1:  T_Loss: 1.77 | V_Loss: 1.64 | V_Accuracy: 0.4054 \n",
      "Epoch  6, CIFAR-10 Batch 1:  T_Loss: 1.76 | V_Loss: 1.62 | V_Accuracy: 0.4192 \n",
      "Epoch  7, CIFAR-10 Batch 1:  T_Loss: 1.67 | V_Loss: 1.53 | V_Accuracy: 0.4452 \n",
      "Epoch  8, CIFAR-10 Batch 1:  T_Loss: 1.59 | V_Loss: 1.49 | V_Accuracy: 0.4702 \n",
      "Epoch  9, CIFAR-10 Batch 1:  T_Loss: 1.53 | V_Loss: 1.48 | V_Accuracy: 0.46 \n",
      "Epoch 10, CIFAR-10 Batch 1:  T_Loss: 1.47 | V_Loss: 1.42 | V_Accuracy: 0.4814 \n",
      "Epoch 11, CIFAR-10 Batch 1:  T_Loss: 1.37 | V_Loss: 1.4 | V_Accuracy: 0.4874 \n",
      "Epoch 12, CIFAR-10 Batch 1:  T_Loss: 1.29 | V_Loss: 1.35 | V_Accuracy: 0.5136 \n",
      "Epoch 13, CIFAR-10 Batch 1:  T_Loss: 1.18 | V_Loss: 1.31 | V_Accuracy: 0.5222 \n",
      "Epoch 14, CIFAR-10 Batch 1:  T_Loss: 1.2 | V_Loss: 1.28 | V_Accuracy: 0.5278 \n",
      "Epoch 15, CIFAR-10 Batch 1:  T_Loss: 1.05 | V_Loss: 1.25 | V_Accuracy: 0.5492 \n",
      "Epoch 16, CIFAR-10 Batch 1:  T_Loss: 1.09 | V_Loss: 1.25 | V_Accuracy: 0.5532 \n",
      "Epoch 17, CIFAR-10 Batch 1:  T_Loss: 1.03 | V_Loss: 1.28 | V_Accuracy: 0.55 \n",
      "Epoch 18, CIFAR-10 Batch 1:  T_Loss: 0.93 | V_Loss: 1.19 | V_Accuracy: 0.5686 \n",
      "Epoch 19, CIFAR-10 Batch 1:  T_Loss: 0.95 | V_Loss: 1.27 | V_Accuracy: 0.5528 \n",
      "Epoch 20, CIFAR-10 Batch 1:  T_Loss: 0.93 | V_Loss: 1.27 | V_Accuracy: 0.5502 \n"
     ]
    }
   ],
   "source": [
    "\"\"\"\n",
    "DON'T MODIFY ANYTHING IN THIS CELL\n",
    "\"\"\"\n",
    "print('Checking the Training on a Single Batch...')\n",
    "with tf.Session() as sess:\n",
    "    # Initializing the variables\n",
    "    sess.run(tf.global_variables_initializer())\n",
    "    \n",
    "    # Training cycle\n",
    "    for epoch in range(epochs):\n",
    "        batch_i = 1\n",
    "        for batch_features, batch_labels in helper.load_preprocess_training_batch(batch_i, batch_size):\n",
    "            train_neural_network(sess, optimizer, keep_probability, batch_features, batch_labels)\n",
    "        print('Epoch {:>2}, CIFAR-10 Batch {}:  '.format(epoch + 1, batch_i), end='')\n",
    "        print_stats(sess, batch_features, batch_labels, cost, accuracy)"
   ]
  },
  {
   "cell_type": "markdown",
   "metadata": {
    "run_control": {
     "frozen": false,
     "read_only": false
    }
   },
   "source": [
    "### Fully Train the Model\n",
    "Now that you got a good accuracy with a single CIFAR-10 batch, try it with all five batches."
   ]
  },
  {
   "cell_type": "code",
   "execution_count": 68,
   "metadata": {
    "ExecuteTime": {
     "end_time": "2017-02-27T20:26:19.046877",
     "start_time": "2017-02-27T18:28:59.692861"
    },
    "collapsed": false,
    "run_control": {
     "frozen": false,
     "read_only": false
    },
    "scrolled": true
   },
   "outputs": [
    {
     "name": "stdout",
     "output_type": "stream",
     "text": [
      "Training...\n",
      "Epoch  1, CIFAR-10 Batch 1:  T_Loss: 2.27 | V_Loss: 2.26 | V_Accuracy: 0.2014 \n",
      "Epoch  1, CIFAR-10 Batch 2:  T_Loss: 2.06 | V_Loss: 2.06 | V_Accuracy: 0.2944 \n",
      "Epoch  1, CIFAR-10 Batch 3:  T_Loss: 1.85 | V_Loss: 1.99 | V_Accuracy: 0.2952 \n",
      "Epoch  1, CIFAR-10 Batch 4:  T_Loss: 1.9 | V_Loss: 1.87 | V_Accuracy: 0.3428 \n",
      "Epoch  1, CIFAR-10 Batch 5:  T_Loss: 1.84 | V_Loss: 1.77 | V_Accuracy: 0.346 \n",
      "Epoch  2, CIFAR-10 Batch 1:  T_Loss: 1.96 | V_Loss: 1.72 | V_Accuracy: 0.3472 \n",
      "Epoch  2, CIFAR-10 Batch 2:  T_Loss: 1.7 | V_Loss: 1.7 | V_Accuracy: 0.3582 \n",
      "Epoch  2, CIFAR-10 Batch 3:  T_Loss: 1.48 | V_Loss: 1.65 | V_Accuracy: 0.3876 \n",
      "Epoch  2, CIFAR-10 Batch 4:  T_Loss: 1.62 | V_Loss: 1.57 | V_Accuracy: 0.432 \n",
      "Epoch  2, CIFAR-10 Batch 5:  T_Loss: 1.67 | V_Loss: 1.65 | V_Accuracy: 0.3744 \n",
      "Epoch  3, CIFAR-10 Batch 1:  T_Loss: 1.65 | V_Loss: 1.51 | V_Accuracy: 0.4388 \n",
      "Epoch  3, CIFAR-10 Batch 2:  T_Loss: 1.54 | V_Loss: 1.51 | V_Accuracy: 0.4444 \n",
      "Epoch  3, CIFAR-10 Batch 3:  T_Loss: 1.24 | V_Loss: 1.44 | V_Accuracy: 0.479 \n",
      "Epoch  3, CIFAR-10 Batch 4:  T_Loss: 1.48 | V_Loss: 1.45 | V_Accuracy: 0.4762 \n",
      "Epoch  3, CIFAR-10 Batch 5:  T_Loss: 1.37 | V_Loss: 1.42 | V_Accuracy: 0.4924 \n",
      "Epoch  4, CIFAR-10 Batch 1:  T_Loss: 1.58 | V_Loss: 1.46 | V_Accuracy: 0.4888 \n",
      "Epoch  4, CIFAR-10 Batch 2:  T_Loss: 1.34 | V_Loss: 1.35 | V_Accuracy: 0.5158 \n",
      "Epoch  4, CIFAR-10 Batch 3:  T_Loss: 1.11 | V_Loss: 1.35 | V_Accuracy: 0.5176 \n",
      "Epoch  4, CIFAR-10 Batch 4:  T_Loss: 1.26 | V_Loss: 1.35 | V_Accuracy: 0.522 \n",
      "Epoch  4, CIFAR-10 Batch 5:  T_Loss: 1.25 | V_Loss: 1.35 | V_Accuracy: 0.5262 \n",
      "Epoch  5, CIFAR-10 Batch 1:  T_Loss: 1.29 | V_Loss: 1.29 | V_Accuracy: 0.542 \n",
      "Epoch  5, CIFAR-10 Batch 2:  T_Loss: 1.25 | V_Loss: 1.22 | V_Accuracy: 0.5646 \n",
      "Epoch  5, CIFAR-10 Batch 3:  T_Loss: 0.99 | V_Loss: 1.23 | V_Accuracy: 0.5678 \n",
      "Epoch  5, CIFAR-10 Batch 4:  T_Loss: 1.04 | V_Loss: 1.19 | V_Accuracy: 0.5874 \n",
      "Epoch  5, CIFAR-10 Batch 5:  T_Loss: 1.12 | V_Loss: 1.34 | V_Accuracy: 0.5274 \n",
      "Epoch  6, CIFAR-10 Batch 1:  T_Loss: 1.16 | V_Loss: 1.22 | V_Accuracy: 0.5654 \n",
      "Epoch  6, CIFAR-10 Batch 2:  T_Loss: 1.11 | V_Loss: 1.19 | V_Accuracy: 0.576 \n",
      "Epoch  6, CIFAR-10 Batch 3:  T_Loss: 0.88 | V_Loss: 1.18 | V_Accuracy: 0.5836 \n",
      "Epoch  6, CIFAR-10 Batch 4:  T_Loss: 1.09 | V_Loss: 1.18 | V_Accuracy: 0.5874 \n",
      "Epoch  6, CIFAR-10 Batch 5:  T_Loss: 0.9 | V_Loss: 1.16 | V_Accuracy: 0.5966 \n",
      "Epoch  7, CIFAR-10 Batch 1:  T_Loss: 1.1 | V_Loss: 1.24 | V_Accuracy: 0.5684 \n",
      "Epoch  7, CIFAR-10 Batch 2:  T_Loss: 1.1 | V_Loss: 1.11 | V_Accuracy: 0.6124 \n",
      "Epoch  7, CIFAR-10 Batch 3:  T_Loss: 0.78 | V_Loss: 1.17 | V_Accuracy: 0.5938 \n",
      "Epoch  7, CIFAR-10 Batch 4:  T_Loss: 0.92 | V_Loss: 1.08 | V_Accuracy: 0.6226 \n",
      "Epoch  7, CIFAR-10 Batch 5:  T_Loss: 0.82 | V_Loss: 1.08 | V_Accuracy: 0.631 \n",
      "Epoch  8, CIFAR-10 Batch 1:  T_Loss: 1.02 | V_Loss: 1.08 | V_Accuracy: 0.6154 \n",
      "Epoch  8, CIFAR-10 Batch 2:  T_Loss: 1.08 | V_Loss: 1.08 | V_Accuracy: 0.617 \n",
      "Epoch  8, CIFAR-10 Batch 3:  T_Loss: 0.76 | V_Loss: 1.1 | V_Accuracy: 0.6228 \n",
      "Epoch  8, CIFAR-10 Batch 4:  T_Loss: 0.8 | V_Loss: 1.03 | V_Accuracy: 0.6392 \n",
      "Epoch  8, CIFAR-10 Batch 5:  T_Loss: 0.75 | V_Loss: 1.02 | V_Accuracy: 0.6388 \n",
      "Epoch  9, CIFAR-10 Batch 1:  T_Loss: 0.85 | V_Loss: 0.99 | V_Accuracy: 0.6536 \n",
      "Epoch  9, CIFAR-10 Batch 2:  T_Loss: 0.92 | V_Loss: 1.02 | V_Accuracy: 0.6392 \n",
      "Epoch  9, CIFAR-10 Batch 3:  T_Loss: 0.73 | V_Loss: 1.08 | V_Accuracy: 0.6278 \n",
      "Epoch  9, CIFAR-10 Batch 4:  T_Loss: 0.77 | V_Loss: 1.01 | V_Accuracy: 0.646 \n",
      "Epoch  9, CIFAR-10 Batch 5:  T_Loss: 0.74 | V_Loss: 1.05 | V_Accuracy: 0.644 \n",
      "Epoch 10, CIFAR-10 Batch 1:  T_Loss: 0.79 | V_Loss: 0.97 | V_Accuracy: 0.6576 \n",
      "Epoch 10, CIFAR-10 Batch 2:  T_Loss: 0.95 | V_Loss: 0.98 | V_Accuracy: 0.6524 \n",
      "Epoch 10, CIFAR-10 Batch 3:  T_Loss: 0.53 | V_Loss: 1.01 | V_Accuracy: 0.6498 \n",
      "Epoch 10, CIFAR-10 Batch 4:  T_Loss: 0.71 | V_Loss: 0.98 | V_Accuracy: 0.6542 \n",
      "Epoch 10, CIFAR-10 Batch 5:  T_Loss: 0.64 | V_Loss: 0.98 | V_Accuracy: 0.6578 \n",
      "Epoch 11, CIFAR-10 Batch 1:  T_Loss: 0.72 | V_Loss: 0.95 | V_Accuracy: 0.6594 \n",
      "Epoch 11, CIFAR-10 Batch 2:  T_Loss: 0.75 | V_Loss: 0.96 | V_Accuracy: 0.66 \n",
      "Epoch 11, CIFAR-10 Batch 3:  T_Loss: 0.62 | V_Loss: 1.09 | V_Accuracy: 0.6228 \n",
      "Epoch 11, CIFAR-10 Batch 4:  T_Loss: 0.57 | V_Loss: 0.92 | V_Accuracy: 0.6806 \n",
      "Epoch 11, CIFAR-10 Batch 5:  T_Loss: 0.58 | V_Loss: 0.99 | V_Accuracy: 0.6532 \n",
      "Epoch 12, CIFAR-10 Batch 1:  T_Loss: 0.62 | V_Loss: 0.91 | V_Accuracy: 0.6768 \n",
      "Epoch 12, CIFAR-10 Batch 2:  T_Loss: 0.68 | V_Loss: 0.91 | V_Accuracy: 0.6766 \n",
      "Epoch 12, CIFAR-10 Batch 3:  T_Loss: 0.41 | V_Loss: 0.95 | V_Accuracy: 0.6744 \n",
      "Epoch 12, CIFAR-10 Batch 4:  T_Loss: 0.57 | V_Loss: 0.9 | V_Accuracy: 0.6938 \n",
      "Epoch 12, CIFAR-10 Batch 5:  T_Loss: 0.48 | V_Loss: 0.9 | V_Accuracy: 0.6872 \n",
      "Epoch 13, CIFAR-10 Batch 1:  T_Loss: 0.62 | V_Loss: 0.91 | V_Accuracy: 0.6814 \n",
      "Epoch 13, CIFAR-10 Batch 2:  T_Loss: 0.61 | V_Loss: 0.91 | V_Accuracy: 0.6828 \n",
      "Epoch 13, CIFAR-10 Batch 3:  T_Loss: 0.42 | V_Loss: 0.93 | V_Accuracy: 0.6786 \n",
      "Epoch 13, CIFAR-10 Batch 4:  T_Loss: 0.52 | V_Loss: 0.87 | V_Accuracy: 0.6972 \n",
      "Epoch 13, CIFAR-10 Batch 5:  T_Loss: 0.45 | V_Loss: 0.94 | V_Accuracy: 0.6774 \n",
      "Epoch 14, CIFAR-10 Batch 1:  T_Loss: 0.58 | V_Loss: 0.91 | V_Accuracy: 0.683 \n",
      "Epoch 14, CIFAR-10 Batch 2:  T_Loss: 0.53 | V_Loss: 0.88 | V_Accuracy: 0.6952 \n",
      "Epoch 14, CIFAR-10 Batch 3:  T_Loss: 0.36 | V_Loss: 0.88 | V_Accuracy: 0.7032 \n",
      "Epoch 14, CIFAR-10 Batch 4:  T_Loss: 0.48 | V_Loss: 0.85 | V_Accuracy: 0.7032 \n",
      "Epoch 14, CIFAR-10 Batch 5:  T_Loss: 0.43 | V_Loss: 0.88 | V_Accuracy: 0.6982 \n",
      "Epoch 15, CIFAR-10 Batch 1:  T_Loss: 0.5 | V_Loss: 0.87 | V_Accuracy: 0.6978 \n",
      "Epoch 15, CIFAR-10 Batch 2:  T_Loss: 0.54 | V_Loss: 0.89 | V_Accuracy: 0.698 \n",
      "Epoch 15, CIFAR-10 Batch 3:  T_Loss: 0.28 | V_Loss: 0.87 | V_Accuracy: 0.7016 \n",
      "Epoch 15, CIFAR-10 Batch 4:  T_Loss: 0.44 | V_Loss: 0.9 | V_Accuracy: 0.6942 \n",
      "Epoch 15, CIFAR-10 Batch 5:  T_Loss: 0.36 | V_Loss: 0.87 | V_Accuracy: 0.7022 \n",
      "Epoch 16, CIFAR-10 Batch 1:  T_Loss: 0.47 | V_Loss: 0.86 | V_Accuracy: 0.7034 \n",
      "Epoch 16, CIFAR-10 Batch 2:  T_Loss: 0.46 | V_Loss: 0.93 | V_Accuracy: 0.6874 \n",
      "Epoch 16, CIFAR-10 Batch 3:  T_Loss: 0.32 | V_Loss: 0.91 | V_Accuracy: 0.691 \n",
      "Epoch 16, CIFAR-10 Batch 4:  T_Loss: 0.45 | V_Loss: 0.96 | V_Accuracy: 0.682 \n",
      "Epoch 16, CIFAR-10 Batch 5:  T_Loss: 0.32 | V_Loss: 0.85 | V_Accuracy: 0.7036 \n",
      "Epoch 17, CIFAR-10 Batch 1:  T_Loss: 0.38 | V_Loss: 0.84 | V_Accuracy: 0.7074 \n",
      "Epoch 17, CIFAR-10 Batch 2:  T_Loss: 0.49 | V_Loss: 0.86 | V_Accuracy: 0.6986 \n",
      "Epoch 17, CIFAR-10 Batch 3:  T_Loss: 0.21 | V_Loss: 0.81 | V_Accuracy: 0.7252 \n",
      "Epoch 17, CIFAR-10 Batch 4:  T_Loss: 0.33 | V_Loss: 0.85 | V_Accuracy: 0.7016 \n",
      "Epoch 17, CIFAR-10 Batch 5:  T_Loss: 0.31 | V_Loss: 0.82 | V_Accuracy: 0.713 \n",
      "Epoch 18, CIFAR-10 Batch 1:  T_Loss: 0.46 | V_Loss: 0.92 | V_Accuracy: 0.6812 \n",
      "Epoch 18, CIFAR-10 Batch 2:  T_Loss: 0.4 | V_Loss: 0.84 | V_Accuracy: 0.7092 \n",
      "Epoch 18, CIFAR-10 Batch 3:  T_Loss: 0.28 | V_Loss: 0.87 | V_Accuracy: 0.7068 \n",
      "Epoch 18, CIFAR-10 Batch 4:  T_Loss: 0.32 | V_Loss: 0.88 | V_Accuracy: 0.6988 \n",
      "Epoch 18, CIFAR-10 Batch 5:  T_Loss: 0.25 | V_Loss: 0.8 | V_Accuracy: 0.7288 \n",
      "Epoch 19, CIFAR-10 Batch 1:  T_Loss: 0.31 | V_Loss: 0.84 | V_Accuracy: 0.7118 \n",
      "Epoch 19, CIFAR-10 Batch 2:  T_Loss: 0.31 | V_Loss: 0.89 | V_Accuracy: 0.6956 \n",
      "Epoch 19, CIFAR-10 Batch 3:  T_Loss: 0.19 | V_Loss: 0.85 | V_Accuracy: 0.7112 \n",
      "Epoch 19, CIFAR-10 Batch 4:  T_Loss: 0.25 | V_Loss: 0.86 | V_Accuracy: 0.7124 \n",
      "Epoch 19, CIFAR-10 Batch 5:  T_Loss: 0.22 | V_Loss: 0.8 | V_Accuracy: 0.7278 \n",
      "Epoch 20, CIFAR-10 Batch 1:  T_Loss: 0.28 | V_Loss: 0.81 | V_Accuracy: 0.7186 \n",
      "Epoch 20, CIFAR-10 Batch 2:  T_Loss: 0.25 | V_Loss: 0.87 | V_Accuracy: 0.7068 \n",
      "Epoch 20, CIFAR-10 Batch 3:  T_Loss: 0.17 | V_Loss: 0.82 | V_Accuracy: 0.7244 \n",
      "Epoch 20, CIFAR-10 Batch 4:  T_Loss: 0.27 | V_Loss: 0.92 | V_Accuracy: 0.6962 \n",
      "Epoch 20, CIFAR-10 Batch 5:  T_Loss: 0.21 | V_Loss: 0.8 | V_Accuracy: 0.7226 \n"
     ]
    }
   ],
   "source": [
    "\"\"\"\n",
    "DON'T MODIFY ANYTHING IN THIS CELL\n",
    "\"\"\"\n",
    "save_model_path = './image_classification'\n",
    "\n",
    "print('Training...')\n",
    "with tf.Session() as sess:\n",
    "    # Initializing the variables\n",
    "    sess.run(tf.global_variables_initializer())\n",
    "    \n",
    "    # Training cycle\n",
    "    for epoch in range(epochs):\n",
    "        # Loop over all batches\n",
    "        n_batches = 5\n",
    "        for batch_i in range(1, n_batches + 1):\n",
    "            for batch_features, batch_labels in helper.load_preprocess_training_batch(batch_i, batch_size):\n",
    "                train_neural_network(sess, optimizer, keep_probability, batch_features, batch_labels)\n",
    "            print('Epoch {:>2}, CIFAR-10 Batch {}:  '.format(epoch + 1, batch_i), end='')\n",
    "            print_stats(sess, batch_features, batch_labels, cost, accuracy)\n",
    "\n",
    "    # Save Model\n",
    "    saver = tf.train.Saver()\n",
    "    save_path = saver.save(sess, save_model_path)"
   ]
  },
  {
   "cell_type": "markdown",
   "metadata": {
    "run_control": {
     "frozen": false,
     "read_only": false
    }
   },
   "source": [
    "# Checkpoint\n",
    "The model has been saved to disk.\n",
    "## Test Model\n",
    "Test your model against the test dataset.  This will be your final accuracy. You should have an accuracy greater than 50%. If you don't, keep tweaking the model architecture and parameters."
   ]
  },
  {
   "cell_type": "code",
   "execution_count": 69,
   "metadata": {
    "ExecuteTime": {
     "end_time": "2017-02-27T20:33:18.225737",
     "start_time": "2017-02-27T20:32:57.808195"
    },
    "collapsed": false,
    "run_control": {
     "frozen": false,
     "read_only": false
    }
   },
   "outputs": [
    {
     "name": "stdout",
     "output_type": "stream",
     "text": [
      "Testing Accuracy: 0.7236946202531646\n",
      "\n"
     ]
    },
    {
     "data": {
      "image/png": "[encoded data removed]",
      "text/plain": [
       "<matplotlib.figure.Figure at 0x1144cc518>"
      ]
     },
     "metadata": {
      "image/png": {
       "height": 319,
       "width": 355
      }
     },
     "output_type": "display_data"
    }
   ],
   "source": [
    "\"\"\"\n",
    "DON'T MODIFY ANYTHING IN THIS CELL\n",
    "\"\"\"\n",
    "%matplotlib inline\n",
    "%config InlineBackend.figure_format = 'retina'\n",
    "\n",
    "import tensorflow as tf\n",
    "import pickle\n",
    "import helper\n",
    "import random\n",
    "\n",
    "# Set batch size if not already set\n",
    "try:\n",
    "    if batch_size:\n",
    "        pass\n",
    "except NameError:\n",
    "    batch_size = 64\n",
    "\n",
    "save_model_path = './image_classification'\n",
    "n_samples = 4\n",
    "top_n_predictions = 3\n",
    "\n",
    "def test_model():\n",
    "    \"\"\"\n",
    "    Test the saved model against the test dataset\n",
    "    \"\"\"\n",
    "\n",
    "    test_features, test_labels = pickle.load(open('preprocess_training.p', mode='rb'))\n",
    "    loaded_graph = tf.Graph()\n",
    "\n",
    "    with tf.Session(graph=loaded_graph) as sess:\n",
    "        # Load model\n",
    "        loader = tf.train.import_meta_graph(save_model_path + '.meta')\n",
    "        loader.restore(sess, save_model_path)\n",
    "\n",
    "        # Get Tensors from loaded model\n",
    "        loaded_x = loaded_graph.get_tensor_by_name('x:0')\n",
    "        loaded_y = loaded_graph.get_tensor_by_name('y:0')\n",
    "        loaded_keep_prob = loaded_graph.get_tensor_by_name('keep_prob:0')\n",
    "        loaded_logits = loaded_graph.get_tensor_by_name('logits:0')\n",
    "        loaded_acc = loaded_graph.get_tensor_by_name('accuracy:0')\n",
    "        \n",
    "        # Get accuracy in batches for memory limitations\n",
    "        test_batch_acc_total = 0\n",
    "        test_batch_count = 0\n",
    "        \n",
    "        for train_feature_batch, train_label_batch in helper.batch_features_labels(test_features, test_labels, batch_size):\n",
    "            test_batch_acc_total += sess.run(\n",
    "                loaded_acc,\n",
    "                feed_dict={loaded_x: train_feature_batch, loaded_y: train_label_batch, loaded_keep_prob: 1.0})\n",
    "            test_batch_count += 1\n",
    "\n",
    "        print('Testing Accuracy: {}\\n'.format(test_batch_acc_total/test_batch_count))\n",
    "\n",
    "        # Print Random Samples\n",
    "        random_test_features, random_test_labels = tuple(zip(*random.sample(list(zip(test_features, test_labels)), n_samples)))\n",
    "        random_test_predictions = sess.run(\n",
    "            tf.nn.top_k(tf.nn.softmax(loaded_logits), top_n_predictions),\n",
    "            feed_dict={loaded_x: random_test_features, loaded_y: random_test_labels, loaded_keep_prob: 1.0})\n",
    "        helper.display_image_predictions(random_test_features, random_test_labels, random_test_predictions)\n",
    "\n",
    "\n",
    "test_model()"
   ]
  },
  {
   "cell_type": "markdown",
   "metadata": {
    "run_control": {
     "frozen": false,
     "read_only": false
    }
   },
   "source": [
    "## Why 50-70% Accuracy?\n",
    "You might be wondering why you can't get an accuracy any higher. First things first, 50% isn't bad for a simple CNN.  Pure guessing would get you 10% accuracy. However, you might notice people are getting scores [well above 70%](http://rodrigob.github.io/are_we_there_yet/build/classification_datasets_results.html#43494641522d3130).  That's because we haven't taught you all there is to know about neural networks. We still need to cover a few more techniques.\n",
    "## Submitting This Project\n",
    "When submitting this project, make sure to run all the cells before saving the notebook.  Save the notebook file as \"dlnd_image_classification.ipynb\" and save it as a HTML file under \"File\" -> \"Download as\".  Include the \"helper.py\" and \"problem_unittests.py\" files in your submission."
   ]
  }
 ],
 "metadata": {
  "kernelspec": {
   "display_name": "Python [conda env:tflearn]",
   "language": "python",
   "name": "conda-env-tflearn-py"
  },
  "language_info": {
   "codemirror_mode": {
    "name": "ipython",
    "version": 3
   },
   "file_extension": ".py",
   "mimetype": "text/x-python",
   "name": "python",
   "nbconvert_exporter": "python",
   "pygments_lexer": "ipython3",
   "version": "3.5.2"
  }
 },
 "nbformat": 4,
 "nbformat_minor": 0
}
